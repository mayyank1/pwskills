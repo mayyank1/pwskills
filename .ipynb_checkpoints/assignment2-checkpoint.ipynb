{
 "cells": [
  {
   "cell_type": "markdown",
   "id": "a8a70c5b",
   "metadata": {},
   "source": [
    "Q1. Explain Class and Object with respect to Object-Oriented Programming. Give a suitable example."
   ]
  },
  {
   "cell_type": "raw",
   "id": "012216f5",
   "metadata": {},
   "source": [
    "A class is a user defined data types that we can use in our program and works a s a blueprint for creating objects.\n",
    "While a object is an instance of a class.\n",
    "\n",
    "example:- Like cars can be a class which have some basic properties like 4 wheel , uses petrol as fuel ,etc.\n",
    "    And audi,toyota,etc can be it's objects which have their behaviour like audi is only 2 seater and toyota is 6 seater,etc which differentiate them from other cars but they come inside the cars."
   ]
  },
  {
   "cell_type": "markdown",
   "id": "885e426f",
   "metadata": {},
   "source": [
    "Q2. Name the four pillars of OOPs."
   ]
  },
  {
   "cell_type": "raw",
   "id": "5cbd2986",
   "metadata": {},
   "source": [
    "1. Polymorphism\n",
    "2. Encapsulation\n",
    "3. Inheritance\n",
    "4. Abstraction"
   ]
  },
  {
   "cell_type": "markdown",
   "id": "de0c9cf5",
   "metadata": {},
   "source": [
    "Q3. Explain why the __init__() function is used. Give a suitable example."
   ]
  },
  {
   "cell_type": "raw",
   "id": "398311c2",
   "metadata": {},
   "source": [
    "__init__() function is a constructor in a class.constructor is type of function in a class which initialize the  value of the attributes in that class. "
   ]
  },
  {
   "cell_type": "markdown",
   "id": "6d8f25f7",
   "metadata": {},
   "source": [
    "# Example"
   ]
  },
  {
   "cell_type": "code",
   "execution_count": 19,
   "id": "ee54391b",
   "metadata": {
    "scrolled": true
   },
   "outputs": [],
   "source": [
    "class test:\n",
    "    def __init__(self,a,b):\n",
    "        self.a = a\n",
    "        self.b = b\n",
    "    \n",
    "    def sum(self):\n",
    "        return self.a+self.b"
   ]
  },
  {
   "cell_type": "code",
   "execution_count": 20,
   "id": "41b791c5",
   "metadata": {},
   "outputs": [],
   "source": [
    "s = test(7,4)"
   ]
  },
  {
   "cell_type": "code",
   "execution_count": 21,
   "id": "0ef47fa0",
   "metadata": {},
   "outputs": [
    {
     "data": {
      "text/plain": [
       "11"
      ]
     },
     "execution_count": 21,
     "metadata": {},
     "output_type": "execute_result"
    }
   ],
   "source": [
    "s.sum()"
   ]
  },
  {
   "cell_type": "markdown",
   "id": "55fefac0",
   "metadata": {},
   "source": [
    "Q4. Why self is used in OOPs?"
   ]
  },
  {
   "cell_type": "raw",
   "id": "325f11fb",
   "metadata": {},
   "source": [
    "Self is not any reserved keyword we just need a word that points to object.We can use any word instead of self as it has only one purpose to point the object from a class."
   ]
  },
  {
   "cell_type": "markdown",
   "id": "80f2e26d",
   "metadata": {},
   "source": [
    "Q5. What is inheritance? Give an example for each type of inheritance."
   ]
  },
  {
   "cell_type": "raw",
   "id": "59d588e5",
   "metadata": {},
   "source": [
    "Inheritance is a feature or a process in which, new classes are created from the existing classes. "
   ]
  },
  {
   "cell_type": "markdown",
   "id": "0eb6d856",
   "metadata": {},
   "source": [
    "# Example"
   ]
  },
  {
   "cell_type": "code",
   "execution_count": 22,
   "id": "a8839e3a",
   "metadata": {},
   "outputs": [],
   "source": [
    "class test1:\n",
    "    def test1Fun(self):\n",
    "        print(\"This is class test1\")"
   ]
  },
  {
   "cell_type": "code",
   "execution_count": 23,
   "id": "19fb64b9",
   "metadata": {},
   "outputs": [],
   "source": [
    "class test2(test1):\n",
    "    def test2Fun(self):\n",
    "        print(\"This is a child of test1 class\")"
   ]
  },
  {
   "cell_type": "code",
   "execution_count": 24,
   "id": "c3c89168",
   "metadata": {},
   "outputs": [],
   "source": [
    "a = test2()"
   ]
  },
  {
   "cell_type": "code",
   "execution_count": 26,
   "id": "79f9a9e3",
   "metadata": {},
   "outputs": [
    {
     "name": "stdout",
     "output_type": "stream",
     "text": [
      "This is class test1\n"
     ]
    }
   ],
   "source": [
    "a.test1Fun()"
   ]
  },
  {
   "cell_type": "code",
   "execution_count": 28,
   "id": "f6c2dd4f",
   "metadata": {},
   "outputs": [
    {
     "name": "stdout",
     "output_type": "stream",
     "text": [
      "This is a child of test1 class\n"
     ]
    }
   ],
   "source": [
    "a.test2Fun()"
   ]
  },
  {
   "cell_type": "code",
   "execution_count": null,
   "id": "188a0966",
   "metadata": {},
   "outputs": [],
   "source": []
  }
 ],
 "metadata": {
  "kernelspec": {
   "display_name": "Python 3 (ipykernel)",
   "language": "python",
   "name": "python3"
  },
  "language_info": {
   "codemirror_mode": {
    "name": "ipython",
    "version": 3
   },
   "file_extension": ".py",
   "mimetype": "text/x-python",
   "name": "python",
   "nbconvert_exporter": "python",
   "pygments_lexer": "ipython3",
   "version": "3.9.13"
  }
 },
 "nbformat": 4,
 "nbformat_minor": 5
}
