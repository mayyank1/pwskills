{
 "cells": [
  {
   "cell_type": "markdown",
   "id": "6657cb74",
   "metadata": {},
   "source": [
    "# Q1. Which keyword is used to create a function? Create a function to return a list of odd numbers in the range of 1 to 25."
   ]
  },
  {
   "cell_type": "markdown",
   "id": "04fadfbb",
   "metadata": {},
   "source": [
    "def keyword is used to create funtion"
   ]
  },
  {
   "cell_type": "code",
   "execution_count": 1,
   "id": "70b3cef5",
   "metadata": {},
   "outputs": [],
   "source": [
    "def list_odd():\n",
    "    l = []\n",
    "    for i in range(1,25):\n",
    "        if i%2 != 0:\n",
    "            l.append(i)\n",
    "    return l"
   ]
  },
  {
   "cell_type": "code",
   "execution_count": 2,
   "id": "0080ae83",
   "metadata": {},
   "outputs": [
    {
     "data": {
      "text/plain": [
       "[1, 3, 5, 7, 9, 11, 13, 15, 17, 19, 21, 23]"
      ]
     },
     "execution_count": 2,
     "metadata": {},
     "output_type": "execute_result"
    }
   ],
   "source": [
    "list_odd()"
   ]
  },
  {
   "cell_type": "markdown",
   "id": "aec6f0d9",
   "metadata": {},
   "source": [
    "# Q2. Why *args and **kwargs is used in some functions? Create a function each for *args and **kwargs to demonstrate their use."
   ]
  },
  {
   "cell_type": "markdown",
   "id": "781e74cc",
   "metadata": {},
   "source": [
    "*args allows a function to accept any no of positional arguments i.e arguments that are non-keyword arguments.\n",
    "\n",
    "**kwargs is a special syntax that allows us to pass a variable length of keyword arguments to the function."
   ]
  },
  {
   "cell_type": "code",
   "execution_count": 3,
   "id": "10360926",
   "metadata": {},
   "outputs": [],
   "source": [
    "# example of *ags\n",
    "def person(*args):\n",
    "    print(args)"
   ]
  },
  {
   "cell_type": "code",
   "execution_count": 4,
   "id": "aa24dc91",
   "metadata": {},
   "outputs": [
    {
     "name": "stdout",
     "output_type": "stream",
     "text": [
      "('Mayank', 20, 'B.tech', 'Pwskills student')\n"
     ]
    }
   ],
   "source": [
    "person(\"Mayank\",20,\"B.tech\",\"Pwskills student\")"
   ]
  },
  {
   "cell_type": "code",
   "execution_count": 7,
   "id": "3fe15ca5",
   "metadata": {},
   "outputs": [],
   "source": [
    "# example of **kwargs\n",
    "def person(**kwargs):\n",
    "    print(kwargs)"
   ]
  },
  {
   "cell_type": "code",
   "execution_count": 8,
   "id": "0c690b05",
   "metadata": {},
   "outputs": [
    {
     "name": "stdout",
     "output_type": "stream",
     "text": [
      "{'name': 'Mayank', 'age': 20, 'course': 'B.tech', 'designation': 'Pwskills student'}\n"
     ]
    }
   ],
   "source": [
    "person(name = \"Mayank\",age = 20,course = \"B.tech\",designation = \"Pwskills student\")"
   ]
  },
  {
   "cell_type": "markdown",
   "id": "6d16972c",
   "metadata": {},
   "source": [
    "# Q3. What is an iterator in python? Name the method used to initialise the iterator object and the method used for iteration. Use these methods to print the first five elements of the given list [2, 4, 6, 8, 10, 12, 14, 16, 18, 20]."
   ]
  },
  {
   "cell_type": "markdown",
   "id": "ec0e78d2",
   "metadata": {},
   "source": [
    "An iterator is an object that contains a countable number of values.An iterator is an object that can be iterated upon, meaning that you can traverse through all the values. \n",
    "\n",
    "iter(): The iter() method is called for the initialization of an iterator. This returns an iterator object.\n",
    "\n",
    "next(): The next() method is called for the iteration. "
   ]
  },
  {
   "cell_type": "code",
   "execution_count": 22,
   "id": "527bace5",
   "metadata": {},
   "outputs": [],
   "source": [
    "l = [2,4,6,8,10,12,14,16,18,20]"
   ]
  },
  {
   "cell_type": "code",
   "execution_count": 23,
   "id": "c0193cad",
   "metadata": {},
   "outputs": [],
   "source": [
    "l1 = iter(l)"
   ]
  },
  {
   "cell_type": "code",
   "execution_count": 24,
   "id": "776db414",
   "metadata": {},
   "outputs": [
    {
     "name": "stdout",
     "output_type": "stream",
     "text": [
      "2\n",
      "4\n",
      "6\n",
      "8\n",
      "10\n"
     ]
    }
   ],
   "source": [
    "for i in range(5):\n",
    "    print(next(l1))"
   ]
  },
  {
   "cell_type": "markdown",
   "id": "0a8fa9b3",
   "metadata": {},
   "source": [
    "# Q4. What is a generator function in python? Why yield keyword is used? Give an example of a generator function."
   ]
  },
  {
   "cell_type": "markdown",
   "id": "abfb0788",
   "metadata": {},
   "source": [
    "A generator is a function that return an iterator that produces a sequence of values when iterated over.Generators are useful when we want to produce a large sequence of values, but we don't want to store all of them in memory at once.\n",
    "\n",
    "The yield keyword is used to produce a value from the generator."
   ]
  },
  {
   "cell_type": "code",
   "execution_count": 25,
   "id": "a069ec37",
   "metadata": {},
   "outputs": [],
   "source": [
    "# Example\n",
    "def my_generator(n):\n",
    "    value = 0\n",
    "    \n",
    "    while value < n:\n",
    "        yield value\n",
    "        value += 1"
   ]
  },
  {
   "cell_type": "code",
   "execution_count": 45,
   "id": "e1a06802",
   "metadata": {},
   "outputs": [
    {
     "name": "stdout",
     "output_type": "stream",
     "text": [
      "0\n",
      "1\n",
      "2\n"
     ]
    }
   ],
   "source": [
    "for value in my_generator(3):\n",
    "    print(value)"
   ]
  },
  {
   "cell_type": "markdown",
   "id": "698f743f",
   "metadata": {},
   "source": [
    "# Q5. Create a generator function for prime numbers less than 1000. Use the next() method to print the first 20 prime numbers."
   ]
  },
  {
   "cell_type": "code",
   "execution_count": 60,
   "id": "9787c44a",
   "metadata": {},
   "outputs": [],
   "source": [
    "def prime_gen():\n",
    "    \n",
    "        for i in range(2,1000):\n",
    "            for j in range(2,1000):\n",
    "                if i%j == 0:\n",
    "                    break\n",
    "            if i == j:\n",
    "                yield i"
   ]
  },
  {
   "cell_type": "code",
   "execution_count": 61,
   "id": "14fc80c4",
   "metadata": {},
   "outputs": [],
   "source": [
    "l = prime_gen()"
   ]
  },
  {
   "cell_type": "code",
   "execution_count": 62,
   "id": "3460cd38",
   "metadata": {},
   "outputs": [
    {
     "name": "stdout",
     "output_type": "stream",
     "text": [
      ",2\n",
      ",3\n",
      ",5\n",
      ",7\n",
      ",11\n",
      ",13\n",
      ",17\n",
      ",19\n",
      ",23\n",
      ",29\n",
      ",31\n",
      ",37\n",
      ",41\n",
      ",43\n",
      ",47\n",
      ",53\n",
      ",59\n",
      ",61\n",
      ",67\n",
      ",71\n"
     ]
    }
   ],
   "source": [
    "for i in range(20):\n",
    "    print(\",\" + str(next(l)))"
   ]
  },
  {
   "cell_type": "markdown",
   "id": "b2e6e669",
   "metadata": {},
   "source": [
    "# Q6. Write a python program to print the first 10 Fibonacci numbers using a while loop."
   ]
  },
  {
   "cell_type": "code",
   "execution_count": 5,
   "id": "0ead3c1d",
   "metadata": {},
   "outputs": [
    {
     "name": "stdout",
     "output_type": "stream",
     "text": [
      "0\n",
      "1\n",
      "1\n",
      "2\n",
      "3\n",
      "5\n",
      "8\n",
      "13\n",
      "21\n",
      "34\n"
     ]
    }
   ],
   "source": [
    "n = 0\n",
    "n1 = 1\n",
    "print(n)\n",
    "print(n1)\n",
    "i = 0\n",
    "\n",
    "while i < 8:\n",
    "    fib = n + n1\n",
    "    n = n1\n",
    "    n1 = fib\n",
    "    print(fib)\n",
    "    i += 1"
   ]
  },
  {
   "cell_type": "markdown",
   "id": "09ab1c55",
   "metadata": {},
   "source": [
    "# Q7. Write a List Comprehension to iterate through the given string: ‘pwskills’.Expected output: ['p', 'w', 's', 'k', 'i', 'l', 'l', 's']"
   ]
  },
  {
   "cell_type": "code",
   "execution_count": 26,
   "id": "f585ee5f",
   "metadata": {},
   "outputs": [],
   "source": [
    "string = 'pwskills'"
   ]
  },
  {
   "cell_type": "code",
   "execution_count": 27,
   "id": "7ae7dc0b",
   "metadata": {},
   "outputs": [],
   "source": [
    "l = [i for i in string]"
   ]
  },
  {
   "cell_type": "code",
   "execution_count": 28,
   "id": "25c0e98f",
   "metadata": {},
   "outputs": [
    {
     "data": {
      "text/plain": [
       "['p', 'w', 's', 'k', 'i', 'l', 'l', 's']"
      ]
     },
     "execution_count": 28,
     "metadata": {},
     "output_type": "execute_result"
    }
   ],
   "source": [
    "l"
   ]
  },
  {
   "cell_type": "markdown",
   "id": "0014bced",
   "metadata": {},
   "source": [
    "# Q8. Write a python program to check whether a given number is Palindrome or not using a while loop."
   ]
  },
  {
   "cell_type": "code",
   "execution_count": 15,
   "id": "0de04a5f",
   "metadata": {},
   "outputs": [
    {
     "name": "stdout",
     "output_type": "stream",
     "text": [
      "Enter the no: 232\n",
      "PALINDROME\n"
     ]
    }
   ],
   "source": [
    "num = int(input(\"Enter the no: \"))\n",
    "onum = num\n",
    "rnum = 0\n",
    "\n",
    "while onum != 0:\n",
    "    digit = onum%10\n",
    "    rnum = rnum*10+digit\n",
    "    onum = onum//10\n",
    "if rnum == num:\n",
    "    print(\"PALINDROME\")\n",
    "else:\n",
    "    print(\"NOT PALINDROME\")"
   ]
  },
  {
   "cell_type": "markdown",
   "id": "8ff6232f",
   "metadata": {},
   "source": [
    "# Q9. Write a code to print odd numbers from 1 to 100 using list comprehension."
   ]
  },
  {
   "cell_type": "code",
   "execution_count": 22,
   "id": "0ec873b4",
   "metadata": {},
   "outputs": [],
   "source": [
    "l = [i for i in range(101)]"
   ]
  },
  {
   "cell_type": "code",
   "execution_count": 24,
   "id": "789d98ae",
   "metadata": {},
   "outputs": [],
   "source": [
    "l_odd = [i for i in l if i%2 != 0]"
   ]
  },
  {
   "cell_type": "code",
   "execution_count": 25,
   "id": "8f7f2e3f",
   "metadata": {},
   "outputs": [
    {
     "data": {
      "text/plain": [
       "[1,\n",
       " 3,\n",
       " 5,\n",
       " 7,\n",
       " 9,\n",
       " 11,\n",
       " 13,\n",
       " 15,\n",
       " 17,\n",
       " 19,\n",
       " 21,\n",
       " 23,\n",
       " 25,\n",
       " 27,\n",
       " 29,\n",
       " 31,\n",
       " 33,\n",
       " 35,\n",
       " 37,\n",
       " 39,\n",
       " 41,\n",
       " 43,\n",
       " 45,\n",
       " 47,\n",
       " 49,\n",
       " 51,\n",
       " 53,\n",
       " 55,\n",
       " 57,\n",
       " 59,\n",
       " 61,\n",
       " 63,\n",
       " 65,\n",
       " 67,\n",
       " 69,\n",
       " 71,\n",
       " 73,\n",
       " 75,\n",
       " 77,\n",
       " 79,\n",
       " 81,\n",
       " 83,\n",
       " 85,\n",
       " 87,\n",
       " 89,\n",
       " 91,\n",
       " 93,\n",
       " 95,\n",
       " 97,\n",
       " 99]"
      ]
     },
     "execution_count": 25,
     "metadata": {},
     "output_type": "execute_result"
    }
   ],
   "source": [
    "l_odd"
   ]
  },
  {
   "cell_type": "code",
   "execution_count": null,
   "id": "a2dc6cc1",
   "metadata": {},
   "outputs": [],
   "source": []
  }
 ],
 "metadata": {
  "kernelspec": {
   "display_name": "Python 3 (ipykernel)",
   "language": "python",
   "name": "python3"
  },
  "language_info": {
   "codemirror_mode": {
    "name": "ipython",
    "version": 3
   },
   "file_extension": ".py",
   "mimetype": "text/x-python",
   "name": "python",
   "nbconvert_exporter": "python",
   "pygments_lexer": "ipython3",
   "version": "3.9.13"
  }
 },
 "nbformat": 4,
 "nbformat_minor": 5
}
