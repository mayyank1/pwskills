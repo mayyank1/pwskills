{
 "cells": [
  {
   "cell_type": "markdown",
   "id": "a5d2a0be-1f6e-4c1b-a464-3b95e90683ec",
   "metadata": {},
   "source": [
    "# Q1. Which function is used to open a file? What are the different modes of opening a file? Explain each mode of file opening."
   ]
  },
  {
   "cell_type": "markdown",
   "id": "612b47b2-913c-4bff-b6db-0c8c6ae76da6",
   "metadata": {},
   "source": [
    "The open() function is used to open a file.\n",
    "r’ : This mode indicate that file will be open for reading only\n",
    "‘w’ : This mode indicate that file will be open for writing only. If file containing containing that name does not exists, it will create a new one\n",
    "‘a’ : This mode indicate that the output of that program will be append to the previous output of that file\n",
    "‘r+’ : This mode indicate that file will be open for both reading and writing"
   ]
  },
  {
   "cell_type": "markdown",
   "id": "e53b7aec-ad8b-4615-ac9d-dde44cf1bbc9",
   "metadata": {},
   "source": [
    "# Q2. Why close() function is used? Why is it important to close a file?"
   ]
  },
  {
   "cell_type": "markdown",
   "id": "bae87e9e-4db3-48a2-9ba3-81ca3e11ef66",
   "metadata": {},
   "source": [
    "The close() method closes an open file. You should always close your files, in some cases, due to buffering, changes made to a file may not show until you close the file."
   ]
  },
  {
   "cell_type": "markdown",
   "id": "f1eb1c17-8b73-4dd4-8652-99102a8dc4f1",
   "metadata": {},
   "source": [
    "# Q3. Write a python program to create a text file. Write ‘I want to become a Data Scientist’ in that file. Then close the file. Open this file and read the content of the file."
   ]
  },
  {
   "cell_type": "code",
   "execution_count": 2,
   "id": "b0315475-390c-496a-8c78-4bce41f9b045",
   "metadata": {},
   "outputs": [],
   "source": [
    "f = open(file = \"ass.txt\", mode = 'w')"
   ]
  },
  {
   "cell_type": "code",
   "execution_count": 3,
   "id": "4bcb8859-b9a1-4d24-9273-c328135792b2",
   "metadata": {},
   "outputs": [
    {
     "data": {
      "text/plain": [
       "33"
      ]
     },
     "execution_count": 3,
     "metadata": {},
     "output_type": "execute_result"
    }
   ],
   "source": [
    "f.write(\"I want to become a Data Scientist\")"
   ]
  },
  {
   "cell_type": "code",
   "execution_count": 4,
   "id": "b048ebc4-6cea-4345-9840-6307cde0fa20",
   "metadata": {},
   "outputs": [],
   "source": [
    "f.close()"
   ]
  },
  {
   "cell_type": "code",
   "execution_count": 5,
   "id": "574a9e58-31fb-448c-b15b-ddd5ae65a4df",
   "metadata": {},
   "outputs": [],
   "source": [
    "f = open(file = \"ass.txt\",mode = 'r')"
   ]
  },
  {
   "cell_type": "code",
   "execution_count": 6,
   "id": "50e08c9f-c958-46ff-8e38-c0b4c3d3a48a",
   "metadata": {},
   "outputs": [
    {
     "data": {
      "text/plain": [
       "'I want to become a Data Scientist'"
      ]
     },
     "execution_count": 6,
     "metadata": {},
     "output_type": "execute_result"
    }
   ],
   "source": [
    "f.readline()"
   ]
  },
  {
   "cell_type": "code",
   "execution_count": 7,
   "id": "718b6799-64d9-4077-a469-c9482c2381e6",
   "metadata": {},
   "outputs": [],
   "source": [
    "f.close()"
   ]
  },
  {
   "cell_type": "markdown",
   "id": "a00f7495-c666-43dd-89df-2000e29b9ca8",
   "metadata": {},
   "source": [
    "# Q4. Explain the following with python code: read(), readline() and readlines()."
   ]
  },
  {
   "cell_type": "markdown",
   "id": "64d033cb-9aab-4173-87a1-51f707c9f799",
   "metadata": {},
   "source": [
    "read()\n",
    "The read() method returns the specified number of bytes from the file.\n",
    "\n",
    "Default is -1 which means the whole file\n",
    "\n",
    "\n",
    "\n",
    "readlines()\n",
    "This method will read the entire content of the file at a time.\n",
    "\n",
    "This method reads all the file content and stores it in the list.\n",
    "\n",
    "This method reads up to the end of the line with readline () and returns a list.\n",
    "\n",
    "\n",
    "\n",
    "readline()\n",
    "This method will read one line in a file.\n",
    "\n",
    "A new line character is left at the string end and is ignored for the last line provided the file does not finish in a new line.\n",
    "\n",
    "This method reads up to the end of the line with readline() and returns a list"
   ]
  },
  {
   "cell_type": "markdown",
   "id": "de4a44fc-9b9e-4520-b92a-25e0a902841a",
   "metadata": {},
   "source": [
    "# Q5. Explain why with statement is used with open(). What is the advantage of using with statement and open() together?"
   ]
  },
  {
   "cell_type": "markdown",
   "id": "61fc045b-521a-48cc-b21b-e818196c3a4c",
   "metadata": {},
   "source": [
    "Unlike open() where you have to close the file with the close() method, the with statement closes the file for you without you telling it to.\n",
    "\n",
    "This is because the with statement calls 2 built-in methods behind the scene – __enter()__ and __exit()__.\n",
    "\n",
    "The __exit()__ method closes the file when the operation you specify is done."
   ]
  },
  {
   "cell_type": "markdown",
   "id": "ca69e3ef-5201-4466-bc37-f511aab286d2",
   "metadata": {},
   "source": [
    "# Q6. Explain the write() and writelines() functions. Give a suitable example."
   ]
  },
  {
   "cell_type": "markdown",
   "id": "04cc6bdf-ff2d-4802-87e1-51d1b994d522",
   "metadata": {},
   "source": [
    "The write() function will write the content in the file without adding any extra characters.\n",
    "\n",
    "The writelines() function will writes the content of a list to a file."
   ]
  },
  {
   "cell_type": "code",
   "execution_count": 10,
   "id": "6cb4f188-73b5-4e11-8ea5-97d98b4ec9b5",
   "metadata": {},
   "outputs": [],
   "source": [
    "# Examples\n",
    "f = open(file = 'ass.txt',mode = 'r+')"
   ]
  },
  {
   "cell_type": "code",
   "execution_count": 11,
   "id": "1a508001-0758-4d0e-8214-0989daea075d",
   "metadata": {},
   "outputs": [
    {
     "data": {
      "text/plain": [
       "22"
      ]
     },
     "execution_count": 11,
     "metadata": {},
     "output_type": "execute_result"
    }
   ],
   "source": [
    "f.write(\"My name is mayank gaur\")"
   ]
  },
  {
   "cell_type": "code",
   "execution_count": 13,
   "id": "c9f8348b-5f83-414a-a26a-8d05a21564ed",
   "metadata": {},
   "outputs": [],
   "source": [
    "list1 = [\"I am a student\",\"I am studying at Graphic era university\"]"
   ]
  },
  {
   "cell_type": "code",
   "execution_count": 14,
   "id": "313534b6-9610-4153-9938-89ae92439310",
   "metadata": {},
   "outputs": [],
   "source": [
    "f.writelines(list1)"
   ]
  },
  {
   "cell_type": "code",
   "execution_count": 16,
   "id": "a70b2ab8-3a41-4fe7-bf00-c11c83c46c56",
   "metadata": {},
   "outputs": [
    {
     "data": {
      "text/plain": [
       "0"
      ]
     },
     "execution_count": 16,
     "metadata": {},
     "output_type": "execute_result"
    }
   ],
   "source": [
    "f.seek(0)"
   ]
  },
  {
   "cell_type": "code",
   "execution_count": 17,
   "id": "633513cd-4f9a-4ddd-b02f-8b9c727e4fcf",
   "metadata": {},
   "outputs": [
    {
     "data": {
      "text/plain": [
       "'My name is mayank gaurI am a studentI am studying at Graphic era university'"
      ]
     },
     "execution_count": 17,
     "metadata": {},
     "output_type": "execute_result"
    }
   ],
   "source": [
    "f.read()"
   ]
  },
  {
   "cell_type": "code",
   "execution_count": 18,
   "id": "ae5d0c22-3ce4-4980-9f6d-db82499f3929",
   "metadata": {},
   "outputs": [],
   "source": [
    "f.close()"
   ]
  },
  {
   "cell_type": "code",
   "execution_count": null,
   "id": "513bf4c1-0aa6-4c40-8a92-cd03592232f6",
   "metadata": {},
   "outputs": [],
   "source": []
  }
 ],
 "metadata": {
  "kernelspec": {
   "display_name": "Python 3 (ipykernel)",
   "language": "python",
   "name": "python3"
  },
  "language_info": {
   "codemirror_mode": {
    "name": "ipython",
    "version": 3
   },
   "file_extension": ".py",
   "mimetype": "text/x-python",
   "name": "python",
   "nbconvert_exporter": "python",
   "pygments_lexer": "ipython3",
   "version": "3.9.13"
  }
 },
 "nbformat": 4,
 "nbformat_minor": 5
}
